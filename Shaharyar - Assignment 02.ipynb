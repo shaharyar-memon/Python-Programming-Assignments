{
 "cells": [
  {
   "cell_type": "code",
   "execution_count": 1,
   "metadata": {},
   "outputs": [
    {
     "name": "stdout",
     "output_type": "stream",
     "text": [
      "Enter marks obtained in English subject : 98\n",
      "Enter marks obtained in Maths subject : 87\n",
      "Enter marks obtained in Geography subject : 99\n",
      "Enter marks obtained in Social Studies Subject : 100\n",
      "Enter marks obtained in Science subject : 85\n",
      "Your grade is : A1\n"
     ]
    }
   ],
   "source": [
    "#Q1-------------------------------------------------------------------------------------\n",
    "eng = int(input(\"Enter marks obtained in English subject : \"))\n",
    "maths = int(input(\"Enter marks obtained in Maths subject : \"))\n",
    "geo = int(input(\"Enter marks obtained in Geography subject : \"))\n",
    "sst = int(input(\"Enter marks obtained in Social Studies Subject : \"))\n",
    "sci = int(input(\"Enter marks obtained in Science subject : \"))\n",
    "#Calculating total marks\n",
    "obtained = eng + maths + geo + sst + sci\n",
    "total = (obtained/500) * 100\n",
    "#Calculating grade\n",
    "grade = \"calculating\"\n",
    "if total < 50 :\n",
    "    grade = \"F\"\n",
    "elif total > 50 and total < 60 :\n",
    "    grade = \"D\"\n",
    "elif total > 60 and total < 70 :\n",
    "    grade = \"C\"\n",
    "elif total > 70 and total < 80 :\n",
    "    grade = \"B\"\n",
    "elif total > 80 and total < 90 :\n",
    "    grade = \"A\"\n",
    "else :\n",
    "    grade = \"A1\"\n",
    "print(\"Your grade is : \" + grade)"
   ]
  },
  {
   "cell_type": "code",
   "execution_count": 2,
   "metadata": {},
   "outputs": [
    {
     "name": "stdout",
     "output_type": "stream",
     "text": [
      "Enter number : 4\n",
      "4 is even.\n"
     ]
    }
   ],
   "source": [
    "#Q2-------------------------------------------------------------------------------------\n",
    "num = int(input(\"Enter number : \"))\n",
    "if num % 2 == 0 :\n",
    "    print(num, \"is even.\")\n",
    "else :\n",
    "    print(num, \"is odd.\")"
   ]
  },
  {
   "cell_type": "code",
   "execution_count": 3,
   "metadata": {},
   "outputs": [
    {
     "name": "stdout",
     "output_type": "stream",
     "text": [
      "Length of list is  5\n"
     ]
    }
   ],
   "source": [
    "#Q3-------------------------------------------------------------------------------------\n",
    "my_list = [\"Shaharyar\", 131, 22, \"A1\", True]\n",
    "print(\"Length of list is \", len(my_list))"
   ]
  },
  {
   "cell_type": "code",
   "execution_count": 4,
   "metadata": {},
   "outputs": [
    {
     "name": "stdout",
     "output_type": "stream",
     "text": [
      "sum of numeric items is :  102\n"
     ]
    }
   ],
   "source": [
    "#Q4-------------------------------------------------------------------------------------\n",
    "list_sum = [\"Hello\", 72, 30]\n",
    "total = 0\n",
    "for x in list_sum :\n",
    "    if isinstance(x, int) == True:\n",
    "        total += x\n",
    "print(\"sum of numeric items is : \", total)"
   ]
  },
  {
   "cell_type": "code",
   "execution_count": 5,
   "metadata": {},
   "outputs": [
    {
     "name": "stdout",
     "output_type": "stream",
     "text": [
      "[56, 32, 9, 45, 90, 33]\n",
      "Largest number in the list is 90\n"
     ]
    }
   ],
   "source": [
    "#Q5-------------------------------------------------------------------------------------\n",
    "numeric_list = [56, 32, 9, 45, 90, 33]\n",
    "print(numeric_list)\n",
    "print(\"Largest number in the list is\", max(numeric_list))"
   ]
  },
  {
   "cell_type": "code",
   "execution_count": 6,
   "metadata": {},
   "outputs": [
    {
     "name": "stdout",
     "output_type": "stream",
     "text": [
      "[1, 1, 2, 3, 5, 8, 13, 21, 34, 55, 89] \n",
      "\n",
      "List elements that are less than 5\n",
      "1\n",
      "1\n",
      "2\n",
      "3\n"
     ]
    }
   ],
   "source": [
    "#Q6-------------------------------------------------------------------------------------\n",
    "list_a = [1, 1, 2, 3, 5, 8, 13, 21, 34, 55, 89]\n",
    "print(list_a, \"\\n\")\n",
    "print(\"List elements that are less than 5\")\n",
    "for i in list_a :\n",
    "    if i < 5:\n",
    "        print(i)"
   ]
  },
  {
   "cell_type": "code",
   "execution_count": null,
   "metadata": {},
   "outputs": [],
   "source": []
  }
 ],
 "metadata": {
  "kernelspec": {
   "display_name": "Python 3",
   "language": "python",
   "name": "python3"
  },
  "language_info": {
   "codemirror_mode": {
    "name": "ipython",
    "version": 3
   },
   "file_extension": ".py",
   "mimetype": "text/x-python",
   "name": "python",
   "nbconvert_exporter": "python",
   "pygments_lexer": "ipython3",
   "version": "3.7.4"
  }
 },
 "nbformat": 4,
 "nbformat_minor": 2
}
