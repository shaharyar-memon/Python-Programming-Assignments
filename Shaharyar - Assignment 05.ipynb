{
 "cells": [
  {
   "cell_type": "code",
   "execution_count": 1,
   "metadata": {},
   "outputs": [
    {
     "name": "stdout",
     "output_type": "stream",
     "text": [
      "Enter number: 5\n",
      "120\n"
     ]
    }
   ],
   "source": [
    "#Q1\n",
    "def factorial(n):\n",
    "    fact = 1\n",
    "    if n == 0:\n",
    "        return fact\n",
    "    else:\n",
    "        fact = n * factorial(n-1)\n",
    "        return fact\n",
    "n=int(input(\"Enter number: \"))\n",
    "print(factorial(n))"
   ]
  },
  {
   "cell_type": "code",
   "execution_count": 2,
   "metadata": {},
   "outputs": [
    {
     "name": "stdout",
     "output_type": "stream",
     "text": [
      "no.of uppercase letters:  3\n",
      "no.of lowercase letters:  13\n"
     ]
    }
   ],
   "source": [
    "#Q2\n",
    "def my_string_func(sentence):\n",
    "    u_case = 0\n",
    "    l_case = 0\n",
    "    for i in sentence:\n",
    "        if i.isupper():\n",
    "           u_case+=1\n",
    "        else:\n",
    "           l_case+=1\n",
    "    print (\"no.of uppercase letters: \", u_case)\n",
    "    print (\"no.of lowercase letters: \", l_case)\n",
    "\n",
    "my_string_func(\"Dil Dil Pakistan\")"
   ]
  },
  {
   "cell_type": "code",
   "execution_count": 3,
   "metadata": {},
   "outputs": [
    {
     "name": "stdout",
     "output_type": "stream",
     "text": [
      "[2, 4, 6, 8]\n"
     ]
    }
   ],
   "source": [
    "#Q3 \n",
    "def even_numbers(listylist):\n",
    "    even_list = []\n",
    "    for i in listylist:\n",
    "        if i % 2 == 0:\n",
    "            even_list.append(i)\n",
    "    print(even_list)\n",
    "        \n",
    "mylist = [2, 4, 5, 6, 8, 1]\n",
    "even_numbers(mylist)"
   ]
  },
  {
   "cell_type": "code",
   "execution_count": 4,
   "metadata": {},
   "outputs": [
    {
     "name": "stdout",
     "output_type": "stream",
     "text": [
      "True\n"
     ]
    }
   ],
   "source": [
    "#Q4\n",
    "def palindrome_check(sentence):\n",
    "\tl_pos = 0\n",
    "\tr_pos = len(sentence) - 1\n",
    "\t\n",
    "\twhile r_pos >= l_pos:\n",
    "\t\tif sentence[l_pos] != sentence[r_pos]:\n",
    "\t\t\treturn False\n",
    "\t\tl_pos += 1\n",
    "\t\tr_pos -= 1\n",
    "\treturn True\n",
    "\n",
    "print(palindrome_check('madam'))"
   ]
  },
  {
   "cell_type": "code",
   "execution_count": 5,
   "metadata": {},
   "outputs": [
    {
     "name": "stdout",
     "output_type": "stream",
     "text": [
      "True\n"
     ]
    }
   ],
   "source": [
    "#Q5\n",
    "def is_prime(n):\n",
    "    if (n==1):\n",
    "        return False\n",
    "    elif (n==2):\n",
    "        return True;\n",
    "    else:\n",
    "        for x in range(2,n):\n",
    "            if(n % x==0):\n",
    "                return False\n",
    "        return True    \n",
    "\n",
    "print(is_prime(2))"
   ]
  },
  {
   "cell_type": "code",
   "execution_count": 6,
   "metadata": {},
   "outputs": [
    {
     "name": "stdout",
     "output_type": "stream",
     "text": [
      "Bread\n",
      "Eggs\n",
      "Vegetables\n",
      "Fruit\n"
     ]
    }
   ],
   "source": [
    "#Q6\n",
    "def shopping_cart(*items):\n",
    "    for item in items:\n",
    "        print(item)\n",
    "\n",
    "shopping_cart(\"Bread\", \"Eggs\", \"Vegetables\", \"Fruit\")"
   ]
  },
  {
   "cell_type": "code",
   "execution_count": null,
   "metadata": {},
   "outputs": [],
   "source": []
  }
 ],
 "metadata": {
  "kernelspec": {
   "display_name": "Python 3",
   "language": "python",
   "name": "python3"
  },
  "language_info": {
   "codemirror_mode": {
    "name": "ipython",
    "version": 3
   },
   "file_extension": ".py",
   "mimetype": "text/x-python",
   "name": "python",
   "nbconvert_exporter": "python",
   "pygments_lexer": "ipython3",
   "version": "3.7.4"
  }
 },
 "nbformat": 4,
 "nbformat_minor": 2
}
