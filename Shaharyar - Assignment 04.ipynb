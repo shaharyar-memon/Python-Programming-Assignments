{
 "cells": [
  {
   "cell_type": "code",
   "execution_count": 1,
   "metadata": {},
   "outputs": [
    {
     "name": "stdout",
     "output_type": "stream",
     "text": [
      "first_name \t: Taufiq \n",
      "\n",
      "last_name \t: Khan \n",
      "\n",
      "age \t: 20 \n",
      "\n",
      "city \t: Karachi \n",
      "\n",
      "{'first_name': 'Taufiq', 'last_name': 'Khan', 'age': 20, 'city': 'Karachi', 'Qualification': 'Intermediate'}\n",
      "{'first_name': 'Taufiq', 'last_name': 'Khan', 'age': 20, 'city': 'Karachi', 'Qualification': 'High Academic Level'}\n",
      "{'first_name': 'Taufiq', 'last_name': 'Khan', 'age': 20, 'city': 'Karachi'}\n"
     ]
    }
   ],
   "source": [
    "#Q1\n",
    "my_dictionary = {\n",
    "    'first_name' : 'Taufiq',\n",
    "    'last_name' : 'Khan',\n",
    "    'age' : 20,\n",
    "    'city' : 'Karachi'\n",
    "}\n",
    "\n",
    "for each_key, each_value in my_dictionary.items():\n",
    "    print(each_key, '\\t:', each_value, '\\n')\n",
    "\n",
    "my_dictionary['Qualification'] = 'Intermediate' \n",
    "print(my_dictionary)\n",
    "\n",
    "my_dictionary.update({'Qualification' : 'High Academic Level'})\n",
    "print(my_dictionary)\n",
    "\n",
    "del my_dictionary['Qualification']\n",
    "print(my_dictionary)"
   ]
  },
  {
   "cell_type": "code",
   "execution_count": 2,
   "metadata": {},
   "outputs": [
    {
     "name": "stdout",
     "output_type": "stream",
     "text": [
      "Karachi \n",
      " {'country': 'Pakistan', 'population': '14.91 million', 'fact': 'Business hub of Pakistan'} \n",
      "\n",
      "\n",
      "Hyderabad \n",
      " {'country': 'Pakistan', 'population': '1.733 million', 'fact': 'Sixth largest city of Pakistan in Sindh'} \n",
      "\n",
      "\n",
      "Islamabad \n",
      " {'country': 'Pakistan', 'population': '1.015 million', 'fact': 'Seat of Government of Pakistan'} \n",
      "\n",
      "\n"
     ]
    }
   ],
   "source": [
    "#Q2\n",
    "cities = {\n",
    "    'Karachi' : {\n",
    "        'country' : 'Pakistan',\n",
    "        'population' : '14.91 million',\n",
    "        'fact' : 'Business hub of Pakistan'\n",
    "    },\n",
    "\n",
    "    'Hyderabad' : {\n",
    "        'country' : 'Pakistan',\n",
    "        'population' : '1.733 million',\n",
    "        'fact' : 'Sixth largest city of Pakistan in Sindh'\n",
    "    },\n",
    "\n",
    "    'Islamabad' : {\n",
    "        'country' : 'Pakistan',\n",
    "        'population' : '1.015 million',\n",
    "        'fact' : 'Seat of Government of Pakistan'\n",
    "    }\n",
    "}\n",
    "\n",
    "for each_city, city_info in cities.items():\n",
    "    print(each_city, '\\n', city_info, '\\n\\n')"
   ]
  },
  {
   "cell_type": "code",
   "execution_count": 3,
   "metadata": {},
   "outputs": [
    {
     "name": "stdout",
     "output_type": "stream",
     "text": [
      "User age? : 21\n",
      "Movie Ticket Price : $15\n",
      "User age? : 0\n",
      "Ending loop\n"
     ]
    }
   ],
   "source": [
    "#Q3\n",
    "while True:\n",
    "    age = int(input('User age? : '))\n",
    "\n",
    "    if age == 0:\n",
    "        print('Ending loop')\n",
    "        break\n",
    "    elif age < 3:\n",
    "        print('Movie Ticket Price : FREE')\n",
    "    elif age >= 3 and age <= 12:\n",
    "        print('Movie Ticket Price : $10')\n",
    "    elif age > 12:\n",
    "        print('Movie Ticket Price : $15')"
   ]
  },
  {
   "cell_type": "code",
   "execution_count": 4,
   "metadata": {},
   "outputs": [
    {
     "name": "stdout",
     "output_type": "stream",
     "text": [
      "One of my favorite books is An Ember in the Ashes\n"
     ]
    }
   ],
   "source": [
    "def favorite_book(title):\n",
    "    print('One of my favorite books is', title)\n",
    "\n",
    "favorite_book('An Ember in the Ashes')"
   ]
  },
  {
   "cell_type": "code",
   "execution_count": null,
   "metadata": {
    "scrolled": true
   },
   "outputs": [],
   "source": [
    "#Q5\n",
    "import random\n",
    "\n",
    "print('\\n\\n---Guess the number game---\\n\\n')\n",
    "print('Generating hidden number...\\n')\n",
    "random_number = random.randrange(1, 30, 3)\n",
    "#print(random_number)\n",
    "\n",
    "def guess_the_num(random_number):\n",
    "    i = 0\n",
    "    while i < 3:\n",
    "        num = int(input('Guess the number : '))\n",
    "        if num < random_number:\n",
    "            print('The entered number is smaller than the hidden number')\n",
    "        elif num > random_number:\n",
    "            print('The entered number is greater than the hidden number')\n",
    "        else:\n",
    "            print('Hoorah! You guessed the number! \\nThe entered number is equal to the hidden number', random_number)\n",
    "        i += 1\n",
    "\n",
    "guess_the_num(random_number)"
   ]
  },
  {
   "cell_type": "code",
   "execution_count": null,
   "metadata": {},
   "outputs": [],
   "source": []
  },
  {
   "cell_type": "code",
   "execution_count": null,
   "metadata": {},
   "outputs": [],
   "source": []
  }
 ],
 "metadata": {
  "kernelspec": {
   "display_name": "Python 3",
   "language": "python",
   "name": "python3"
  },
  "language_info": {
   "codemirror_mode": {
    "name": "ipython",
    "version": 3
   },
   "file_extension": ".py",
   "mimetype": "text/x-python",
   "name": "python",
   "nbconvert_exporter": "python",
   "pygments_lexer": "ipython3",
   "version": "3.7.4"
  }
 },
 "nbformat": 4,
 "nbformat_minor": 2
}
