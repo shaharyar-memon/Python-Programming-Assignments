{
 "cells": [
  {
   "cell_type": "code",
   "execution_count": 1,
   "metadata": {},
   "outputs": [
    {
     "name": "stdout",
     "output_type": "stream",
     "text": [
      "Enter first value : 4\n",
      "Enter second value : 3\n",
      "Enter operation : *\n",
      "12\n"
     ]
    }
   ],
   "source": [
    "#Q1\n",
    "num1 = int(input('Enter first value : '))\n",
    "num2 = int(input('Enter second value : '))\n",
    "op = input('Enter operation : ')\n",
    "ans = 0 \n",
    "\n",
    "if op == '+':\n",
    "    ans = num1 + num2\n",
    "elif op == '-':\n",
    "    ans = num1 - num2\n",
    "elif op == '*':\n",
    "    ans = num1 * num2\n",
    "elif op == '/':\n",
    "    ans = num1 / num2\n",
    "elif op == '**':\n",
    "    ans = num1**num2\n",
    "else:\n",
    "    print('Invalid operator') \n",
    "\n",
    "print(ans)"
   ]
  },
  {
   "cell_type": "code",
   "execution_count": 2,
   "metadata": {},
   "outputs": [
    {
     "name": "stdout",
     "output_type": "stream",
     "text": [
      "There are 2 numeric values in the list  [2, 3, 'chewing gum', 'False']\n"
     ]
    }
   ],
   "source": [
    "my_list = [2, 3, 'chewing gum', 'False']\n",
    "count = 0\n",
    "\n",
    "for i in my_list:\n",
    "    if isinstance(i, int) == True:\n",
    "        count += 1\n",
    "print('There are', count, \"numeric values in the list \", my_list)"
   ]
  },
  {
   "cell_type": "code",
   "execution_count": 3,
   "metadata": {},
   "outputs": [
    {
     "name": "stdout",
     "output_type": "stream",
     "text": [
      "{'name': 'Shaharyar', 'roll_no': 'PY07751'}\n",
      "{'name': 'Shaharyar', 'roll_no': 'PY07751', 'interest': 'Python'}\n",
      "{'name': 'Shaharyar', 'roll_no': 'PY07751', 'interest': 'Machine Learning', 'new key': 'This is a new key'}\n"
     ]
    }
   ],
   "source": [
    "#Q3\n",
    "student = {\n",
    "    'name': 'Shaharyar',\n",
    "    'roll_no' : 'PY07751'\n",
    "}\n",
    "\n",
    "print(student)\n",
    "student['interest'] = 'Python'\n",
    "print(student)\n",
    "student.update({'interest': 'Machine Learning', 'new key': 'This is a new key'})\n",
    "print(student)"
   ]
  },
  {
   "cell_type": "code",
   "execution_count": 4,
   "metadata": {},
   "outputs": [
    {
     "name": "stdout",
     "output_type": "stream",
     "text": [
      "22\n"
     ]
    }
   ],
   "source": [
    "random = {\n",
    "    'name': 'Shaharyar',\n",
    "    'roll_no': 'PY07751',\n",
    "    'num1': 12,\n",
    "    'interest': 'Machine Learning',\n",
    "    'num2': 10\n",
    "}\n",
    "\n",
    "sum = 0 \n",
    "\n",
    "for each_value in random.values():\n",
    "    if isinstance(each_value, int) == True:\n",
    "        sum += each_value\n",
    "\n",
    "print(sum)"
   ]
  },
  {
   "cell_type": "code",
   "execution_count": 5,
   "metadata": {},
   "outputs": [
    {
     "name": "stdout",
     "output_type": "stream",
     "text": [
      "['list', 'saylani', 3, 5, 'saylani', True, False, True]\n",
      "Elements that have duplicates : ['saylani', True]\n"
     ]
    }
   ],
   "source": [
    "#Q5 \n",
    "list_01 = ['list', 'saylani', 3, 5, 'saylani', True, False, True]\n",
    "print(list_01)\n",
    "list_dup = []\n",
    "\n",
    "for i in list_01:\n",
    "    if list_01.count(i) > 1:\n",
    "        list_dup.append(i)\n",
    "\n",
    "for j in list_dup:\n",
    "    if list_dup.count(i) > 1:\n",
    "        del list_dup[i]\n",
    "\n",
    "print('Elements that have duplicates :', list_dup)"
   ]
  },
  {
   "cell_type": "code",
   "execution_count": 6,
   "metadata": {},
   "outputs": [
    {
     "name": "stdout",
     "output_type": "stream",
     "text": [
      "Enter key to check if it already exists : 2\n",
      "2 already exists in the dictionary.\n"
     ]
    }
   ],
   "source": [
    "#Q6 \n",
    "my_dictionary = {\n",
    "    0: 1,\n",
    "    1: 2,\n",
    "    2: 3\n",
    "}\n",
    "\n",
    "check = int(input('Enter key to check if it already exists : '))\n",
    "if check in my_dictionary.keys():\n",
    "    print(check, 'already exists in the dictionary.')\n",
    "else:\n",
    "    print(check, 'does not exist in the dictionary.')"
   ]
  },
  {
   "cell_type": "code",
   "execution_count": null,
   "metadata": {},
   "outputs": [],
   "source": []
  }
 ],
 "metadata": {
  "kernelspec": {
   "display_name": "Python 3",
   "language": "python",
   "name": "python3"
  },
  "language_info": {
   "codemirror_mode": {
    "name": "ipython",
    "version": 3
   },
   "file_extension": ".py",
   "mimetype": "text/x-python",
   "name": "python",
   "nbconvert_exporter": "python",
   "pygments_lexer": "ipython3",
   "version": "3.7.4"
  }
 },
 "nbformat": 4,
 "nbformat_minor": 2
}
